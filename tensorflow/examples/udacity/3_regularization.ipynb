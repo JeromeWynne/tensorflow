{
 "cells": [
  {
   "cell_type": "markdown",
   "metadata": {
    "colab_type": "text",
    "id": "kR-4eNdK6lYS"
   },
   "source": [
    "Deep Learning\n",
    "=============\n",
    "\n",
    "Assignment 3\n",
    "------------\n",
    "\n",
    "Previously in `2_fullyconnected.ipynb`, you trained a logistic regression and a neural network model.\n",
    "\n",
    "The goal of this assignment is to explore regularization techniques."
   ]
  },
  {
   "cell_type": "code",
   "execution_count": 2,
   "metadata": {
    "cellView": "both",
    "colab": {
     "autoexec": {
      "startup": false,
      "wait_interval": 0
     }
    },
    "colab_type": "code",
    "collapsed": true,
    "id": "JLpLa8Jt7Vu4"
   },
   "outputs": [],
   "source": [
    "# These are all the modules we'll be using later. Make sure you can import them\n",
    "# before proceeding further.\n",
    "from __future__ import print_function\n",
    "import numpy as np\n",
    "import tensorflow as tf\n",
    "from six.moves import cPickle as pickle"
   ]
  },
  {
   "cell_type": "markdown",
   "metadata": {
    "colab_type": "text",
    "id": "1HrCK6e17WzV"
   },
   "source": [
    "First reload the data we generated in `1_notmnist.ipynb`."
   ]
  },
  {
   "cell_type": "code",
   "execution_count": 3,
   "metadata": {
    "cellView": "both",
    "colab": {
     "autoexec": {
      "startup": false,
      "wait_interval": 0
     },
     "output_extras": [
      {
       "item_id": 1
      }
     ]
    },
    "colab_type": "code",
    "collapsed": false,
    "executionInfo": {
     "elapsed": 11777,
     "status": "ok",
     "timestamp": 1449849322348,
     "user": {
      "color": "",
      "displayName": "",
      "isAnonymous": false,
      "isMe": true,
      "permissionId": "",
      "photoUrl": "",
      "sessionId": "0",
      "userId": ""
     },
     "user_tz": 480
    },
    "id": "y3-cj1bpmuxc",
    "outputId": "e03576f1-ebbe-4838-c388-f1777bcc9873"
   },
   "outputs": [
    {
     "name": "stdout",
     "output_type": "stream",
     "text": [
      "Training set (200000, 28, 28) (200000,)\n",
      "Validation set (10000, 28, 28) (10000,)\n",
      "Test set (10000, 28, 28) (10000,)\n"
     ]
    }
   ],
   "source": [
    "pickle_file = 'notMNIST.pickle'\n",
    "\n",
    "with open(pickle_file, 'rb') as f:\n",
    "  save = pickle.load(f)\n",
    "  train_dataset = save['train_dataset']\n",
    "  train_labels = save['train_labels']\n",
    "  valid_dataset = save['valid_dataset']\n",
    "  valid_labels = save['valid_labels']\n",
    "  test_dataset = save['test_dataset']\n",
    "  test_labels = save['test_labels']\n",
    "  del save  # hint to help gc free up memory\n",
    "  print('Training set', train_dataset.shape, train_labels.shape)\n",
    "  print('Validation set', valid_dataset.shape, valid_labels.shape)\n",
    "  print('Test set', test_dataset.shape, test_labels.shape)"
   ]
  },
  {
   "cell_type": "markdown",
   "metadata": {
    "colab_type": "text",
    "id": "L7aHrm6nGDMB"
   },
   "source": [
    "Reformat into a shape that's more adapted to the models we're going to train:\n",
    "- data as a flat matrix,\n",
    "- labels as float 1-hot encodings."
   ]
  },
  {
   "cell_type": "code",
   "execution_count": 4,
   "metadata": {
    "cellView": "both",
    "colab": {
     "autoexec": {
      "startup": false,
      "wait_interval": 0
     },
     "output_extras": [
      {
       "item_id": 1
      }
     ]
    },
    "colab_type": "code",
    "collapsed": false,
    "executionInfo": {
     "elapsed": 11728,
     "status": "ok",
     "timestamp": 1449849322356,
     "user": {
      "color": "",
      "displayName": "",
      "isAnonymous": false,
      "isMe": true,
      "permissionId": "",
      "photoUrl": "",
      "sessionId": "0",
      "userId": ""
     },
     "user_tz": 480
    },
    "id": "IRSyYiIIGIzS",
    "outputId": "3f8996ee-3574-4f44-c953-5c8a04636582"
   },
   "outputs": [
    {
     "name": "stdout",
     "output_type": "stream",
     "text": [
      "Training set (200000, 784) (200000, 10)\n",
      "Validation set (10000, 784) (10000, 10)\n",
      "Test set (10000, 784) (10000, 10)\n"
     ]
    }
   ],
   "source": [
    "image_size = 28\n",
    "num_labels = 10\n",
    "\n",
    "def reformat(dataset, labels):\n",
    "  dataset = dataset.reshape((-1, image_size * image_size)).astype(np.float32)\n",
    "  # Map 1 to [0.0, 1.0, 0.0 ...], 2 to [0.0, 0.0, 1.0 ...]\n",
    "  labels = (np.arange(num_labels) == labels[:,None]).astype(np.float32)\n",
    "  return dataset, labels\n",
    "train_dataset, train_labels = reformat(train_dataset, train_labels)\n",
    "valid_dataset, valid_labels = reformat(valid_dataset, valid_labels)\n",
    "test_dataset, test_labels = reformat(test_dataset, test_labels)\n",
    "print('Training set', train_dataset.shape, train_labels.shape)\n",
    "print('Validation set', valid_dataset.shape, valid_labels.shape)\n",
    "print('Test set', test_dataset.shape, test_labels.shape)"
   ]
  },
  {
   "cell_type": "code",
   "execution_count": 5,
   "metadata": {
    "cellView": "both",
    "colab": {
     "autoexec": {
      "startup": false,
      "wait_interval": 0
     }
    },
    "colab_type": "code",
    "collapsed": true,
    "id": "RajPLaL_ZW6w"
   },
   "outputs": [],
   "source": [
    "def accuracy(predictions, labels):\n",
    "  return (100.0 * np.sum(np.argmax(predictions, 1) == np.argmax(labels, 1))\n",
    "          / predictions.shape[0])"
   ]
  },
  {
   "cell_type": "markdown",
   "metadata": {
    "colab_type": "text",
    "id": "sgLbUAQ1CW-1"
   },
   "source": [
    "---\n",
    "Problem 1\n",
    "---------\n",
    "\n",
    "Introduce and tune L2 regularization for both logistic and neural network models. Remember that L2 amounts to adding a penalty on the norm of the weights to the loss. In TensorFlow, you can compute the L2 loss for a tensor `t` using `nn.l2_loss(t)`. The right amount of regularization should improve your validation / test accuracy.\n",
    "\n",
    "---"
   ]
  },
  {
   "cell_type": "markdown",
   "metadata": {},
   "source": [
    "## Logistic Regression with L2 Regularization"
   ]
  },
  {
   "cell_type": "code",
   "execution_count": 41,
   "metadata": {
    "collapsed": true
   },
   "outputs": [],
   "source": [
    "def accuracy_score(predictions, truth):\n",
    "    return 100.*np.sum(np.argmax(predictions, 1) == np.argmax(truth, 1))/predictions.shape[0]"
   ]
  },
  {
   "cell_type": "code",
   "execution_count": 90,
   "metadata": {
    "collapsed": false
   },
   "outputs": [],
   "source": [
    "lr_graph    = tf.Graph()\n",
    "n_classes   = train_labels.shape[1]\n",
    "batch_size  = 128\n",
    "lam         = 0.01 # Regularization parameter\n",
    "\n",
    "with lr_graph.as_default():\n",
    "    # Constants for the data\n",
    "    tf_train_data   = tf.placeholder(tf.float32, shape = [batch_size, train_dataset.shape[1]])\n",
    "    tf_train_labels = tf.placeholder(tf.float32, shape = [batch_size, n_classes])\n",
    "    tf_valid_data   = tf.constant(valid_dataset)\n",
    "    tf_test_data    = tf.constant(test_dataset)\n",
    "    \n",
    "    # Variables for weights and biases\n",
    "    weights         = tf.Variable(tf.truncated_normal([train_dataset.shape[1], n_classes]))\n",
    "    biases          = tf.Variable(tf.zeros([n_classes]))\n",
    "    \n",
    "    # Inference and loss calculation\n",
    "    logits = tf.matmul(tf_train_data, weights) + biases\n",
    "    loss   = tf.reduce_mean(tf.nn.softmax_cross_entropy_with_logits(labels = tf_train_labels, logits = logits)) + lam*tf.nn.l2_loss(weights)\n",
    "    \n",
    "    # Optimizer\n",
    "    optimizer = tf.train.GradientDescentOptimizer(0.5).minimize(loss)\n",
    "    \n",
    "    # Feedback information\n",
    "    tf_train_predictions = tf.nn.softmax(logits)\n",
    "    tf_valid_predictions = tf.nn.softmax(tf.matmul(tf_valid_data, weights) + biases)\n",
    "    tf_test_predictions  = tf.nn.softmax(tf.matmul(tf_test_data, weights) + biases)"
   ]
  },
  {
   "cell_type": "code",
   "execution_count": 91,
   "metadata": {
    "collapsed": false
   },
   "outputs": [
    {
     "name": "stdout",
     "output_type": "stream",
     "text": [
      "Session initialized. Running...\n",
      "Step 0\n",
      "Loss: 48.784767150878906\n",
      "Training accuracy: 7.03125%\n",
      "Validation accuracy: 10.85%\n",
      "\n",
      "Step 500\n",
      "Loss: 0.8551467061042786\n",
      "Training accuracy: 84.375%\n",
      "Validation accuracy: 81.55%\n",
      "\n",
      "Step 1000\n",
      "Loss: 0.6211180090904236\n",
      "Training accuracy: 85.15625%\n",
      "Validation accuracy: 81.62%\n",
      "\n",
      "Step 1500\n",
      "Loss: 0.996584951877594\n",
      "Training accuracy: 78.125%\n",
      "Validation accuracy: 81.97%\n",
      "\n",
      "Step 2000\n",
      "Loss: 0.7599500417709351\n",
      "Training accuracy: 82.03125%\n",
      "Validation accuracy: 82.1%\n",
      "\n",
      "Step 2500\n",
      "Loss: 0.74886155128479\n",
      "Training accuracy: 81.25%\n",
      "Validation accuracy: 81.92%\n",
      "\n",
      "Step 3000\n",
      "Loss: 0.6802355051040649\n",
      "Training accuracy: 83.59375%\n",
      "Validation accuracy: 81.56%\n",
      "\n",
      "Step 3500\n",
      "Loss: 0.8542815446853638\n",
      "Training accuracy: 81.25%\n",
      "Validation accuracy: 81.27%\n",
      "\n",
      "Step 4000\n",
      "Loss: 0.8930375576019287\n",
      "Training accuracy: 80.46875%\n",
      "Validation accuracy: 81.44%\n",
      "\n",
      "Step 4500\n",
      "Loss: 0.6157508492469788\n",
      "Training accuracy: 85.9375%\n",
      "Validation accuracy: 81.02%\n",
      "\n",
      "Testing accuracy: 84.21%\n"
     ]
    }
   ],
   "source": [
    "n_steps = 5000\n",
    "\n",
    "with tf.Session(graph = lr_graph) as session:\n",
    "    # Initialize variables\n",
    "    tf.global_variables_initializer().run()\n",
    "    print('Session initialized. Running...')\n",
    "    for step in range(n_steps):\n",
    "        offset = (step * batch_size) % (train_labels.shape[0] - batch_size) # To vary the minibatch taken\n",
    "        batch_data = train_dataset[offset:(offset + batch_size), :]\n",
    "        batch_labels = train_labels[offset:(offset + batch_size), :]\n",
    "        feed_dict = {tf_train_data : batch_data, tf_train_labels : batch_labels} \n",
    "        _, l, train_predictions = session.run([optimizer, loss, tf_train_predictions], feed_dict = feed_dict)\n",
    "        if step % 500 == 0:\n",
    "            print('Step {}'.format(step))\n",
    "            print('Loss: {}'.format(l))\n",
    "            print('Training accuracy: {}%'.format(accuracy_score(train_predictions, batch_labels)))\n",
    "            print('Validation accuracy: {}%'.format(accuracy_score(tf_valid_predictions.eval(), valid_labels)))\n",
    "            print('')\n",
    "            \n",
    "    print('Testing accuracy: {}%'.format(accuracy_score(tf_test_predictions.eval(), test_labels)))"
   ]
  },
  {
   "cell_type": "markdown",
   "metadata": {},
   "source": [
    "## Multi-layer Perceptron with L2 Regularization"
   ]
  },
  {
   "cell_type": "code",
   "execution_count": 101,
   "metadata": {
    "collapsed": false
   },
   "outputs": [],
   "source": [
    "nn_graph       = tf.Graph()\n",
    "n_classes   = train_labels.shape[1]\n",
    "batch_size  = 128\n",
    "lam_nn      = 0.01 # Regularization parameter\n",
    "n_relus     = 1024\n",
    "n_features  = train_dataset.shape[1]\n",
    "\n",
    "with nn_graph.as_default():\n",
    "    # Inputs\n",
    "    tf_train_data   = tf.placeholder(tf.float32, shape = [batch_size, n_features])\n",
    "    tf_train_labels = tf.placeholder(tf.float32, shape = [batch_size, n_classes])\n",
    "    tf_valid_data   = tf.constant(valid_dataset)\n",
    "    tf_test_data    = tf.constant(test_dataset)\n",
    "    \n",
    "    # First layer\n",
    "    weights_1    = tf.Variable(tf.truncated_normal([n_features, n_relus]))\n",
    "    biases_1     = tf.Variable(tf.zeros([n_relus]))\n",
    "    activation_1 = tf.nn.relu(tf.matmul(tf_train_data, weights_1) + biases_1)\n",
    "    \n",
    "    # Second layer\n",
    "    weights_2    = tf.Variable(tf.truncated_normal([n_relus, n_classes]))\n",
    "    biases_2     = tf.Variable(tf.zeros(n_classes))\n",
    "    activation_2 = tf.matmul(activation_1, weights_2) + biases_2\n",
    "    \n",
    "    # Loss\n",
    "    loss         = tf.reduce_mean(tf.nn.softmax_cross_entropy_with_logits(labels = tf_train_labels, logits = activation_2)) + lam_nn*(tf.nn.l2_loss(weights_1) + tf.nn.l2_loss(weights_2))\n",
    "    \n",
    "    # Optimizer\n",
    "    optimizer    = tf.train.GradientDescentOptimizer(0.5).minimize(loss)\n",
    "    \n",
    "    # Feedback\n",
    "    tf_train_predictions = tf.nn.softmax(activation_2)\n",
    "    valid_activation_1   = tf.nn.relu(tf.matmul(tf_valid_data, weights_1) + biases_1)\n",
    "    tf_valid_predictions    = tf.nn.softmax(tf.matmul(valid_activation_1, weights_2) + biases_2)\n",
    "    \n",
    "    test_activation_1    = tf.nn.relu(tf.matmul(tf_test_data, weights_1,) + biases_1)\n",
    "    tf_test_predictions     = tf.nn.softmax(tf.matmul(test_activation_1, weights_2) + biases_2)\n",
    "    "
   ]
  },
  {
   "cell_type": "code",
   "execution_count": 102,
   "metadata": {
    "collapsed": false
   },
   "outputs": [
    {
     "name": "stdout",
     "output_type": "stream",
     "text": [
      "Session initialized. Running...\n",
      "Step 0\n",
      "Loss: 3478.406982421875\n",
      "Training accuracy: 7.8125%\n",
      "Validation accuracy: 29.91%\n",
      "\n",
      "Step 500\n",
      "Loss: 21.288034439086914\n",
      "Training accuracy: 84.375%\n",
      "Validation accuracy: 84.26%\n",
      "\n",
      "Step 1000\n",
      "Loss: 0.723535418510437\n",
      "Training accuracy: 85.9375%\n",
      "Validation accuracy: 83.95%\n",
      "\n",
      "Step 1500\n",
      "Loss: 0.8553493022918701\n",
      "Training accuracy: 80.46875%\n",
      "Validation accuracy: 83.94%\n",
      "\n",
      "Step 2000\n",
      "Loss: 0.7460545301437378\n",
      "Training accuracy: 82.8125%\n",
      "Validation accuracy: 83.72%\n",
      "\n",
      "Step 2500\n",
      "Loss: 0.6778848767280579\n",
      "Training accuracy: 84.375%\n",
      "Validation accuracy: 83.85%\n",
      "\n",
      "Step 3000\n",
      "Loss: 0.6802613735198975\n",
      "Training accuracy: 85.9375%\n",
      "Validation accuracy: 83.81%\n",
      "\n"
     ]
    },
    {
     "ename": "KeyboardInterrupt",
     "evalue": "",
     "output_type": "error",
     "traceback": [
      "\u001b[1;31m---------------------------------------------------------------------------\u001b[0m",
      "\u001b[1;31mKeyboardInterrupt\u001b[0m                         Traceback (most recent call last)",
      "\u001b[1;32m<ipython-input-102-719e0b5d44ab>\u001b[0m in \u001b[0;36m<module>\u001b[1;34m()\u001b[0m\n\u001b[0;32m     13\u001b[0m \u001b[1;33m\u001b[0m\u001b[0m\n\u001b[0;32m     14\u001b[0m         \u001b[0mfeed_dict\u001b[0m \u001b[1;33m=\u001b[0m \u001b[1;33m{\u001b[0m\u001b[0mtf_train_data\u001b[0m \u001b[1;33m:\u001b[0m \u001b[0mbatch_data\u001b[0m\u001b[1;33m,\u001b[0m \u001b[0mtf_train_labels\u001b[0m \u001b[1;33m:\u001b[0m \u001b[0mbatch_labels\u001b[0m\u001b[1;33m}\u001b[0m\u001b[1;33m\u001b[0m\u001b[0m\n\u001b[1;32m---> 15\u001b[1;33m         \u001b[0m_\u001b[0m\u001b[1;33m,\u001b[0m \u001b[0ml\u001b[0m\u001b[1;33m,\u001b[0m \u001b[0mtrain_predictions\u001b[0m \u001b[1;33m=\u001b[0m \u001b[0msession\u001b[0m\u001b[1;33m.\u001b[0m\u001b[0mrun\u001b[0m\u001b[1;33m(\u001b[0m\u001b[1;33m[\u001b[0m\u001b[0moptimizer\u001b[0m\u001b[1;33m,\u001b[0m \u001b[0mloss\u001b[0m\u001b[1;33m,\u001b[0m \u001b[0mtf_train_predictions\u001b[0m\u001b[1;33m]\u001b[0m\u001b[1;33m,\u001b[0m \u001b[0mfeed_dict\u001b[0m \u001b[1;33m=\u001b[0m \u001b[0mfeed_dict\u001b[0m\u001b[1;33m)\u001b[0m\u001b[1;33m\u001b[0m\u001b[0m\n\u001b[0m\u001b[0;32m     16\u001b[0m \u001b[1;33m\u001b[0m\u001b[0m\n\u001b[0;32m     17\u001b[0m         \u001b[1;32mif\u001b[0m \u001b[0mstep\u001b[0m \u001b[1;33m%\u001b[0m \u001b[1;36m500\u001b[0m \u001b[1;33m==\u001b[0m \u001b[1;36m0\u001b[0m\u001b[1;33m:\u001b[0m\u001b[1;33m\u001b[0m\u001b[0m\n",
      "\u001b[1;32mC:\\Users\\admin\\Anaconda3\\lib\\site-packages\\tensorflow\\python\\client\\session.py\u001b[0m in \u001b[0;36mrun\u001b[1;34m(self, fetches, feed_dict, options, run_metadata)\u001b[0m\n\u001b[0;32m    776\u001b[0m     \u001b[1;32mtry\u001b[0m\u001b[1;33m:\u001b[0m\u001b[1;33m\u001b[0m\u001b[0m\n\u001b[0;32m    777\u001b[0m       result = self._run(None, fetches, feed_dict, options_ptr,\n\u001b[1;32m--> 778\u001b[1;33m                          run_metadata_ptr)\n\u001b[0m\u001b[0;32m    779\u001b[0m       \u001b[1;32mif\u001b[0m \u001b[0mrun_metadata\u001b[0m\u001b[1;33m:\u001b[0m\u001b[1;33m\u001b[0m\u001b[0m\n\u001b[0;32m    780\u001b[0m         \u001b[0mproto_data\u001b[0m \u001b[1;33m=\u001b[0m \u001b[0mtf_session\u001b[0m\u001b[1;33m.\u001b[0m\u001b[0mTF_GetBuffer\u001b[0m\u001b[1;33m(\u001b[0m\u001b[0mrun_metadata_ptr\u001b[0m\u001b[1;33m)\u001b[0m\u001b[1;33m\u001b[0m\u001b[0m\n",
      "\u001b[1;32mC:\\Users\\admin\\Anaconda3\\lib\\site-packages\\tensorflow\\python\\client\\session.py\u001b[0m in \u001b[0;36m_run\u001b[1;34m(self, handle, fetches, feed_dict, options, run_metadata)\u001b[0m\n\u001b[0;32m    980\u001b[0m     \u001b[1;32mif\u001b[0m \u001b[0mfinal_fetches\u001b[0m \u001b[1;32mor\u001b[0m \u001b[0mfinal_targets\u001b[0m\u001b[1;33m:\u001b[0m\u001b[1;33m\u001b[0m\u001b[0m\n\u001b[0;32m    981\u001b[0m       results = self._do_run(handle, final_targets, final_fetches,\n\u001b[1;32m--> 982\u001b[1;33m                              feed_dict_string, options, run_metadata)\n\u001b[0m\u001b[0;32m    983\u001b[0m     \u001b[1;32melse\u001b[0m\u001b[1;33m:\u001b[0m\u001b[1;33m\u001b[0m\u001b[0m\n\u001b[0;32m    984\u001b[0m       \u001b[0mresults\u001b[0m \u001b[1;33m=\u001b[0m \u001b[1;33m[\u001b[0m\u001b[1;33m]\u001b[0m\u001b[1;33m\u001b[0m\u001b[0m\n",
      "\u001b[1;32mC:\\Users\\admin\\Anaconda3\\lib\\site-packages\\tensorflow\\python\\client\\session.py\u001b[0m in \u001b[0;36m_do_run\u001b[1;34m(self, handle, target_list, fetch_list, feed_dict, options, run_metadata)\u001b[0m\n\u001b[0;32m   1030\u001b[0m     \u001b[1;32mif\u001b[0m \u001b[0mhandle\u001b[0m \u001b[1;32mis\u001b[0m \u001b[1;32mNone\u001b[0m\u001b[1;33m:\u001b[0m\u001b[1;33m\u001b[0m\u001b[0m\n\u001b[0;32m   1031\u001b[0m       return self._do_call(_run_fn, self._session, feed_dict, fetch_list,\n\u001b[1;32m-> 1032\u001b[1;33m                            target_list, options, run_metadata)\n\u001b[0m\u001b[0;32m   1033\u001b[0m     \u001b[1;32melse\u001b[0m\u001b[1;33m:\u001b[0m\u001b[1;33m\u001b[0m\u001b[0m\n\u001b[0;32m   1034\u001b[0m       return self._do_call(_prun_fn, self._session, handle, feed_dict,\n",
      "\u001b[1;32mC:\\Users\\admin\\Anaconda3\\lib\\site-packages\\tensorflow\\python\\client\\session.py\u001b[0m in \u001b[0;36m_do_call\u001b[1;34m(self, fn, *args)\u001b[0m\n\u001b[0;32m   1037\u001b[0m   \u001b[1;32mdef\u001b[0m \u001b[0m_do_call\u001b[0m\u001b[1;33m(\u001b[0m\u001b[0mself\u001b[0m\u001b[1;33m,\u001b[0m \u001b[0mfn\u001b[0m\u001b[1;33m,\u001b[0m \u001b[1;33m*\u001b[0m\u001b[0margs\u001b[0m\u001b[1;33m)\u001b[0m\u001b[1;33m:\u001b[0m\u001b[1;33m\u001b[0m\u001b[0m\n\u001b[0;32m   1038\u001b[0m     \u001b[1;32mtry\u001b[0m\u001b[1;33m:\u001b[0m\u001b[1;33m\u001b[0m\u001b[0m\n\u001b[1;32m-> 1039\u001b[1;33m       \u001b[1;32mreturn\u001b[0m \u001b[0mfn\u001b[0m\u001b[1;33m(\u001b[0m\u001b[1;33m*\u001b[0m\u001b[0margs\u001b[0m\u001b[1;33m)\u001b[0m\u001b[1;33m\u001b[0m\u001b[0m\n\u001b[0m\u001b[0;32m   1040\u001b[0m     \u001b[1;32mexcept\u001b[0m \u001b[0merrors\u001b[0m\u001b[1;33m.\u001b[0m\u001b[0mOpError\u001b[0m \u001b[1;32mas\u001b[0m \u001b[0me\u001b[0m\u001b[1;33m:\u001b[0m\u001b[1;33m\u001b[0m\u001b[0m\n\u001b[0;32m   1041\u001b[0m       \u001b[0mmessage\u001b[0m \u001b[1;33m=\u001b[0m \u001b[0mcompat\u001b[0m\u001b[1;33m.\u001b[0m\u001b[0mas_text\u001b[0m\u001b[1;33m(\u001b[0m\u001b[0me\u001b[0m\u001b[1;33m.\u001b[0m\u001b[0mmessage\u001b[0m\u001b[1;33m)\u001b[0m\u001b[1;33m\u001b[0m\u001b[0m\n",
      "\u001b[1;32mC:\\Users\\admin\\Anaconda3\\lib\\site-packages\\tensorflow\\python\\client\\session.py\u001b[0m in \u001b[0;36m_run_fn\u001b[1;34m(session, feed_dict, fetch_list, target_list, options, run_metadata)\u001b[0m\n\u001b[0;32m   1019\u001b[0m         return tf_session.TF_Run(session, options,\n\u001b[0;32m   1020\u001b[0m                                  \u001b[0mfeed_dict\u001b[0m\u001b[1;33m,\u001b[0m \u001b[0mfetch_list\u001b[0m\u001b[1;33m,\u001b[0m \u001b[0mtarget_list\u001b[0m\u001b[1;33m,\u001b[0m\u001b[1;33m\u001b[0m\u001b[0m\n\u001b[1;32m-> 1021\u001b[1;33m                                  status, run_metadata)\n\u001b[0m\u001b[0;32m   1022\u001b[0m \u001b[1;33m\u001b[0m\u001b[0m\n\u001b[0;32m   1023\u001b[0m     \u001b[1;32mdef\u001b[0m \u001b[0m_prun_fn\u001b[0m\u001b[1;33m(\u001b[0m\u001b[0msession\u001b[0m\u001b[1;33m,\u001b[0m \u001b[0mhandle\u001b[0m\u001b[1;33m,\u001b[0m \u001b[0mfeed_dict\u001b[0m\u001b[1;33m,\u001b[0m \u001b[0mfetch_list\u001b[0m\u001b[1;33m)\u001b[0m\u001b[1;33m:\u001b[0m\u001b[1;33m\u001b[0m\u001b[0m\n",
      "\u001b[1;31mKeyboardInterrupt\u001b[0m: "
     ]
    }
   ],
   "source": [
    "n_steps = 5000\n",
    "\n",
    "with tf.Session(graph = nn_graph) as session:\n",
    "    \n",
    "    tf.global_variables_initializer().run()\n",
    "    print('Session initialized. Running...')\n",
    "    \n",
    "    for step in range(n_steps):\n",
    "        \n",
    "        offset = (step * batch_size) % (train_labels.shape[0] - batch_size) # To vary the minibatch taken\n",
    "        batch_data = train_dataset[offset:(offset + batch_size), :]\n",
    "        batch_labels = train_labels[offset:(offset + batch_size), :]\n",
    "        \n",
    "        feed_dict = {tf_train_data : batch_data, tf_train_labels : batch_labels} \n",
    "        _, l, train_predictions = session.run([optimizer, loss, tf_train_predictions], feed_dict = feed_dict)\n",
    "        \n",
    "        if step % 500 == 0:\n",
    "            print('Step {}'.format(step))\n",
    "            print('Loss: {}'.format(l))\n",
    "            print('Training accuracy: {}%'.format(accuracy_score(train_predictions, batch_labels)))\n",
    "            print('Validation accuracy: {}%'.format(accuracy_score(tf_valid_predictions.eval(), valid_labels)))\n",
    "            print('')\n",
    "            \n",
    "    print('Testing accuracy: {}%'.format(accuracy_score(tf_test_predictions.eval(), test_labels)))"
   ]
  },
  {
   "cell_type": "markdown",
   "metadata": {
    "colab_type": "text",
    "id": "na8xX2yHZzNF"
   },
   "source": [
    "---\n",
    "Problem 2\n",
    "---------\n",
    "Let's demonstrate an extreme case of overfitting. Restrict your training data to just a few batches. What happens?\n",
    "\n",
    "---"
   ]
  },
  {
   "cell_type": "code",
   "execution_count": 104,
   "metadata": {
    "collapsed": false
   },
   "outputs": [
    {
     "name": "stdout",
     "output_type": "stream",
     "text": [
      "Session initialized. Running...\n",
      "Step 0\n",
      "Loss: 3453.11572265625\n",
      "Training accuracy: 9.375%\n",
      "Validation accuracy: 22.3%\n",
      "\n",
      "Step 500\n",
      "Loss: 20.99122428894043\n",
      "Training accuracy: 100.0%\n",
      "Validation accuracy: 64.17%\n",
      "\n",
      "Step 1000\n",
      "Loss: 0.340889036655426\n",
      "Training accuracy: 100.0%\n",
      "Validation accuracy: 69.0%\n",
      "\n",
      "Testing accuracy: 75.19%\n"
     ]
    }
   ],
   "source": [
    "n_steps         = 1001\n",
    "n_train_samples = batch_size*2\n",
    "rnd_ix          = np.random.choice(range(train_dataset.shape[0]), n_train_samples)\n",
    "restricted_train_dataset = train_dataset[rnd_ix]\n",
    "restricted_train_labels  = train_labels[rnd_ix]\n",
    "\n",
    "with tf.Session(graph = nn_graph) as session:\n",
    "    # Initialize variables\n",
    "    tf.global_variables_initializer().run()\n",
    "    print('Session initialized. Running...')\n",
    "    for step in range(n_steps):\n",
    "        offset = (step * batch_size) % (restricted_train_labels.shape[0] - batch_size) # To vary the minibatch taken\n",
    "        batch_data = restricted_train_dataset[offset:(offset + batch_size), :]\n",
    "        batch_labels = restricted_train_labels[offset:(offset + batch_size), :]\n",
    "        feed_dict = {tf_train_data : batch_data, tf_train_labels : batch_labels} \n",
    "        _, l, train_predictions = session.run([optimizer, loss, tf_train_predictions], feed_dict = feed_dict)\n",
    "        if step % 500 == 0:\n",
    "            print('Step {}'.format(step))\n",
    "            print('Loss: {}'.format(l))\n",
    "            print('Training accuracy: {}%'.format(accuracy_score(train_predictions, batch_labels)))\n",
    "            print('Validation accuracy: {}%'.format(accuracy_score(tf_valid_predictions.eval(), valid_labels)))\n",
    "            print('')\n",
    "            \n",
    "    print('Testing accuracy: {}%'.format(accuracy_score(tf_test_predictions.eval(), test_labels)))"
   ]
  },
  {
   "cell_type": "code",
   "execution_count": 105,
   "metadata": {
    "collapsed": false
   },
   "outputs": [
    {
     "name": "stdout",
     "output_type": "stream",
     "text": [
      "Session initialized. Running...\n",
      "Step 0\n",
      "Loss: 3467.64599609375\n",
      "Training accuracy: 10.15625%\n",
      "Validation accuracy: 30.32%\n",
      "\n",
      "Step 500\n",
      "Loss: 21.01329231262207\n",
      "Training accuracy: 100.0%\n",
      "Validation accuracy: 64.29%\n",
      "\n",
      "Step 1000\n",
      "Loss: 0.3415870666503906\n",
      "Training accuracy: 100.0%\n",
      "Validation accuracy: 68.62%\n",
      "\n",
      "Testing accuracy: 74.78%\n"
     ]
    }
   ],
   "source": [
    "n_steps         = 1001\n",
    "\n",
    "with tf.Session(graph = nn_graph) as session:\n",
    "    # Initialize variables\n",
    "    tf.global_variables_initializer().run()\n",
    "    print('Session initialized. Running...')\n",
    "    for step in range(n_steps):\n",
    "        offset = (step * batch_size) % (restricted_train_labels.shape[0] - batch_size) # To vary the minibatch taken\n",
    "        batch_data = restricted_train_dataset[offset:(offset + batch_size), :]\n",
    "        batch_labels = restricted_train_labels[offset:(offset + batch_size), :]\n",
    "        feed_dict = {tf_train_data : batch_data, tf_train_labels : batch_labels} \n",
    "        _, l, train_predictions = session.run([optimizer, loss, tf_train_predictions], feed_dict = feed_dict)\n",
    "        if step % 500 == 0:\n",
    "            print('Step {}'.format(step))\n",
    "            print('Loss: {}'.format(l))\n",
    "            print('Training accuracy: {}%'.format(accuracy_score(train_predictions, batch_labels)))\n",
    "            print('Validation accuracy: {}%'.format(accuracy_score(tf_valid_predictions.eval(), valid_labels)))\n",
    "            print('')\n",
    "            \n",
    "    print('Testing accuracy: {}%'.format(accuracy_score(tf_test_predictions.eval(), test_labels)))"
   ]
  },
  {
   "cell_type": "markdown",
   "metadata": {
    "colab_type": "text",
    "id": "ww3SCBUdlkRc"
   },
   "source": [
    "---\n",
    "Problem 3\n",
    "---------\n",
    "Introduce Dropout on the hidden layer of the neural network. Remember: Dropout should only be introduced during training, not evaluation, otherwise your evaluation results would be stochastic as well. TensorFlow provides `nn.dropout()` for that, but you have to make sure it's only inserted during training.\n",
    "\n",
    "What happens to our extreme overfitting case?\n",
    "\n",
    "---"
   ]
  },
  {
   "cell_type": "code",
   "execution_count": 106,
   "metadata": {
    "collapsed": false
   },
   "outputs": [],
   "source": [
    "nn_do_graph       = tf.Graph()\n",
    "n_classes   = train_labels.shape[1]\n",
    "batch_size  = 128\n",
    "lam_nn      = 0.01 # Regularization parameter\n",
    "n_relus     = 1024\n",
    "n_features  = train_dataset.shape[1]\n",
    "\n",
    "with nn_do_graph.as_default():\n",
    "    # Inputs\n",
    "    tf_train_data   = tf.placeholder(tf.float32, shape = [batch_size, n_features])\n",
    "    tf_train_labels = tf.placeholder(tf.float32, shape = [batch_size, n_classes])\n",
    "    tf_valid_data   = tf.constant(valid_dataset)\n",
    "    tf_test_data    = tf.constant(test_dataset)\n",
    "    \n",
    "    # First layer\n",
    "    weights_1    = tf.Variable(tf.truncated_normal([n_features, n_relus]))\n",
    "    biases_1     = tf.Variable(tf.zeros([n_relus]))\n",
    "    activation_1 = tf.nn.dropout(tf.nn.relu(tf.matmul(tf_train_data, weights_1) + biases_1), 0.5)\n",
    "    \n",
    "    # Second layer\n",
    "    weights_2    = tf.Variable(tf.truncated_normal([n_relus, n_classes]))\n",
    "    biases_2     = tf.Variable(tf.zeros(n_classes))\n",
    "    activation_2 = tf.matmul(activation_1, weights_2) + biases_2\n",
    "    \n",
    "    # Loss\n",
    "    loss         = (tf.reduce_mean(tf.nn.softmax_cross_entropy_with_logits(labels = tf_train_labels, logits = activation_2)) +\n",
    "                        lam_nn*(tf.nn.l2_loss(weights_1) + tf.nn.l2_loss(weights_2)))\n",
    "    \n",
    "    # Optimizer\n",
    "    optimizer    = tf.train.GradientDescentOptimizer(0.5).minimize(loss)\n",
    "    \n",
    "    # Feedback\n",
    "    tf_train_predictions = tf.nn.softmax(activation_2)\n",
    "    valid_activation_1   = tf.nn.relu(tf.matmul(tf_valid_data, weights_1) + biases_1)\n",
    "    tf_valid_predictions = tf.nn.softmax(tf.matmul(valid_activation_1, weights_2) + biases_2)\n",
    "    \n",
    "    test_activation_1    = tf.nn.relu(tf.matmul(tf_test_data, weights_1,) + biases_1)\n",
    "    tf_test_predictions  = tf.nn.softmax(tf.matmul(test_activation_1, weights_2) + biases_2)\n",
    "    "
   ]
  },
  {
   "cell_type": "code",
   "execution_count": 107,
   "metadata": {
    "collapsed": false
   },
   "outputs": [
    {
     "name": "stdout",
     "output_type": "stream",
     "text": [
      "Session initialized. Running...\n",
      "Step 0\n",
      "Loss: 3551.030029296875\n",
      "Training accuracy: 14.84375%\n",
      "Validation accuracy: 25.68%\n",
      "\n",
      "Step 500\n",
      "Loss: 21.027334213256836\n",
      "Training accuracy: 100.0%\n",
      "Validation accuracy: 66.01%\n",
      "\n",
      "Step 1000\n",
      "Loss: 0.3474011719226837\n",
      "Training accuracy: 100.0%\n",
      "Validation accuracy: 69.04%\n",
      "\n",
      "Step 1500\n",
      "Loss: 0.19715064764022827\n",
      "Training accuracy: 100.0%\n",
      "Validation accuracy: 68.8%\n",
      "\n",
      "Step 2000\n",
      "Loss: 0.18994605541229248\n",
      "Training accuracy: 100.0%\n",
      "Validation accuracy: 68.62%\n",
      "\n",
      "Step 2500\n",
      "Loss: 0.18563655018806458\n",
      "Training accuracy: 100.0%\n",
      "Validation accuracy: 68.91%\n",
      "\n",
      "Step 3000\n",
      "Loss: 0.18566232919692993\n",
      "Training accuracy: 100.0%\n",
      "Validation accuracy: 68.42%\n",
      "\n",
      "Step 3500\n",
      "Loss: 0.18011048436164856\n",
      "Training accuracy: 100.0%\n",
      "Validation accuracy: 68.63%\n",
      "\n",
      "Step 4000\n",
      "Loss: 0.18307086825370789\n",
      "Training accuracy: 100.0%\n",
      "Validation accuracy: 68.51%\n",
      "\n",
      "Step 4500\n",
      "Loss: 0.1791398525238037\n",
      "Training accuracy: 100.0%\n",
      "Validation accuracy: 68.59%\n",
      "\n",
      "Step 5000\n",
      "Loss: 0.18117496371269226\n",
      "Training accuracy: 100.0%\n",
      "Validation accuracy: 68.51%\n",
      "\n",
      "Testing accuracy: 75.02%\n"
     ]
    }
   ],
   "source": [
    "n_steps         = 5001\n",
    "\n",
    "with tf.Session(graph = nn_do_graph) as session:\n",
    "    # Initialize variables\n",
    "    tf.global_variables_initializer().run()\n",
    "    print('Session initialized. Running...'\n",
    "         )\n",
    "    for step in range(n_steps):\n",
    "        \n",
    "        offset = (step * batch_size) % (restricted_train_labels.shape[0] - batch_size) # To vary the minibatch taken\n",
    "        batch_data = restricted_train_dataset[offset:(offset + batch_size), :]\n",
    "        batch_labels = restricted_train_labels[offset:(offset + batch_size), :]\n",
    "        feed_dict = {tf_train_data : batch_data, tf_train_labels : batch_labels} \n",
    "        _, l, train_predictions = session.run([optimizer, loss, tf_train_predictions], feed_dict = feed_dict)\n",
    "        \n",
    "        if step % 500 == 0:\n",
    "            print('Step {}'.format(step))\n",
    "            print('Loss: {}'.format(l))\n",
    "            print('Training accuracy: {}%'.format(accuracy_score(train_predictions, batch_labels)))\n",
    "            print('Validation accuracy: {}%'.format(accuracy_score(tf_valid_predictions.eval(), valid_labels)))\n",
    "            print('')\n",
    "            \n",
    "    print('Testing accuracy: {}%'.format(accuracy_score(tf_test_predictions.eval(), test_labels)))"
   ]
  },
  {
   "cell_type": "markdown",
   "metadata": {
    "colab_type": "text",
    "id": "-b1hTz3VWZjw"
   },
   "source": [
    "---\n",
    "Problem 4\n",
    "---------\n",
    "\n",
    "Try to get the best performance you can using a multi-layer model! The best reported test accuracy using a deep network is [97.1%](http://yaroslavvb.blogspot.com/2011/09/notmnist-dataset.html?showComment=1391023266211#c8758720086795711595).\n",
    "\n",
    "One avenue you can explore is to add multiple layers.\n",
    "\n",
    "Another one is to use learning rate decay:\n",
    "\n",
    "    global_step = tf.Variable(0)  # count the number of steps taken.\n",
    "    learning_rate = tf.train.exponential_decay(0.5, global_step, ...)\n",
    "    optimizer = tf.train.GradientDescentOptimizer(learning_rate).minimize(loss, global_step=global_step)\n",
    " \n",
    " ---\n"
   ]
  },
  {
   "cell_type": "code",
   "execution_count": 188,
   "metadata": {
    "collapsed": false
   },
   "outputs": [],
   "source": [
    "nn_gd_graph = tf.Graph()\n",
    "n_classes   = train_labels.shape[1]\n",
    "batch_size  = 50\n",
    "lam_nn      = 0.001 # Regularization parameter\n",
    "n_relus_1   = 1024\n",
    "n_relus_2   = 512\n",
    "n_features  = train_dataset.shape[1]\n",
    "\n",
    "with nn_gd_graph.as_default():\n",
    "    # Inputs\n",
    "    tf_train_data   = tf.placeholder(tf.float32, shape = [batch_size, n_features])\n",
    "    tf_train_labels = tf.placeholder(tf.float32, shape = [batch_size, n_classes])\n",
    "    tf_valid_data   = tf.constant(valid_dataset)\n",
    "    tf_test_data    = tf.constant(test_dataset)\n",
    "    \n",
    "    # First layer\n",
    "    weights_1    = tf.Variable(tf.truncated_normal([n_features, n_relus_1]))\n",
    "    biases_1     = tf.Variable(tf.zeros([n_relus_1]))\n",
    "    activation_1 = tf.nn.relu(tf.matmul(tf_train_data, weights_1) + biases_1)\n",
    "    \n",
    "    # Second layer\n",
    "    weights_2    = tf.Variable(tf.truncated_normal([n_relus_1, n_relus_2]))\n",
    "    biases_2     = tf.Variable(tf.zeros([n_relus_2]))\n",
    "    activation_2 = tf.nn.relu(tf.matmul(activation_1, weights_2) + biases_2)\n",
    "    \n",
    "    # Third layer\n",
    "    weights_3    = tf.Variable(tf.truncated_normal([n_relus_2, n_classes]))\n",
    "    biases_3     = tf.Variable(tf.zeros([n_classes]))\n",
    "    activation_3 = tf.matmul(activation_2, weights_3) + biases_3\n",
    "    \n",
    "    # Loss\n",
    "    loss         = tf.reduce_mean(tf.nn.softmax_cross_entropy_with_logits(labels = tf_train_labels, logits = activation_3)) + lam_nn*(tf.nn.l2_loss(weights_3) + tf.nn.l2_loss(weights_2))\n",
    "    \n",
    "    # Optimizer\n",
    "    optimizer    = tf.train.GradientDescentOptimizer(0.01).minimize(loss) \n",
    "\n",
    "    # Feedback\n",
    "    tf_train_predictions = tf.nn.softmax(activation_3)\n",
    "    valid_activation_1   = tf.nn.relu(tf.matmul(tf_valid_data, weights_1) + biases_1)\n",
    "    valid_activation_2   = tf.nn.relu(tf.matmul(valid_activation_1, weights_2) + biases_2)\n",
    "    tf_valid_predictions = tf.nn.softmax(tf.matmul(valid_activation_2, weights_3) + biases_3)\n",
    "    \n",
    "    test_activation_1    = tf.nn.relu(tf.matmul(tf_test_data, weights_1,) + biases_1)\n",
    "    test_activation_2    = tf.nn.relu(tf.matmul(test_activation_1, weights_2) + biases_2)\n",
    "    tf_test_predictions  = tf.nn.softmax(tf.matmul(test_activation_2, weights_3) + biases_3)\n",
    "\n",
    "    # Saver\n",
    "    saver = tf.train.Saver()"
   ]
  },
  {
   "cell_type": "code",
   "execution_count": 189,
   "metadata": {
    "collapsed": false
   },
   "outputs": [
    {
     "name": "stdout",
     "output_type": "stream",
     "text": [
      "Session initialized. Running...\n",
      "Step 0\n",
      "Loss: 4306.00537109375\n",
      "Training accuracy: 10.0%\n",
      "Validation accuracy: 21.53%\n",
      "\n",
      "Step 250\n",
      "Loss: 278.8251037597656\n",
      "Training accuracy: 76.0%\n",
      "Validation accuracy: 74.31%\n",
      "\n",
      "Testing accuracy: 81.83%\n"
     ]
    }
   ],
   "source": [
    "n_steps = 251\n",
    "import sys\n",
    "import os\n",
    "\n",
    "with tf.Session(graph = nn_gd_graph) as session:\n",
    "    if os.path.exists('./tmp/model.ckpt'):\n",
    "        saver.restore(sess, \"/tmp/model.ckpt\")\n",
    "        print('Session restored. Running...')\n",
    "    else:\n",
    "        tf.global_variables_initializer().run()\n",
    "        print('Session initialized. Running...')\n",
    "    \n",
    "    for step in range(n_steps):\n",
    "        \n",
    "        offset = (step * batch_size) % (train_labels.shape[0] - batch_size) # To vary the minibatch taken\n",
    "        batch_data = train_dataset[offset:(offset + batch_size), :]\n",
    "        batch_labels = train_labels[offset:(offset + batch_size), :]\n",
    "        feed_dict = {tf_train_data : batch_data, tf_train_labels : batch_labels} \n",
    "        _, l, train_predictions = session.run([optimizer, loss, tf_train_predictions], feed_dict = feed_dict)\n",
    "        \n",
    "        if step % 250 == 0:\n",
    "            sys.stdout.write('\\r' + 'Step {}\\nLoss: {}\\nTraining accuracy: {}%\\nValidation accuracy: {}%\\n\\n'.format(step, l,\n",
    "                                                                                                                   accuracy_score(train_predictions, batch_labels),\n",
    "                                                                                                                   accuracy_score(tf_valid_predictions.eval(), valid_labels)))\n",
    "    if not os.path.exists('./tmp/'):\n",
    "        os.makedirs('./tmp/')\n",
    "\n",
    "    saver.save(session, './tmp/model.ckpt')\n",
    "    print('Testing accuracy: {}%'.format(accuracy_score(tf_test_predictions.eval(), test_labels)))"
   ]
  },
  {
   "cell_type": "code",
   "execution_count": 192,
   "metadata": {
    "collapsed": false
   },
   "outputs": [
    {
     "name": "stdout",
     "output_type": "stream",
     "text": [
      "INFO:tensorflow:Restoring parameters from ./tmp/model.ckpt\n",
      "Session restored. Continuing to train...\n",
      "Step 0\n",
      "Loss: 240.39212036132812\n",
      "Training accuracy: 86.0%\n",
      "Validation accuracy: 73.82%\n",
      "\n",
      "Step 250\n",
      "Loss: 230.2286834716797\n",
      "Training accuracy: 82.0%\n",
      "Validation accuracy: 75.3%\n",
      "\n",
      "Testing accuracy: 83.1%\n"
     ]
    }
   ],
   "source": [
    "n_add_steps = 251\n",
    "\n",
    "with tf.Session(graph = nn_gd_graph) as session:\n",
    "    saver.restore(session, './tmp/model.ckpt')\n",
    "    print('Session restored. Continuing to train...')\n",
    "    \n",
    "    for step in range(n_add_steps):\n",
    "        offset = (step * batch_size) % (train_labels.shape[0] - batch_size) # To vary the minibatch taken\n",
    "        batch_data = train_dataset[offset:(offset + batch_size), :]\n",
    "        batch_labels = train_labels[offset:(offset + batch_size), :]\n",
    "        feed_dict = {tf_train_data : batch_data, tf_train_labels : batch_labels} \n",
    "        _, l, train_predictions = session.run([optimizer, loss, tf_train_predictions], feed_dict = feed_dict)\n",
    "        \n",
    "        if step % 250 == 0:\n",
    "            sys.stdout.write('\\r' + 'Step {}\\nLoss: {}\\nTraining accuracy: {}%\\nValidation accuracy: {}%\\n\\n'.format(step, l,\n",
    "                                                                                                                   accuracy_score(train_predictions, batch_labels),\n",
    "                                                                                                                   accuracy_score(tf_valid_predictions.eval(), valid_labels)))\n",
    "    saver.save(session, './tmp/model.ckpt')\n",
    "    print('Testing accuracy: {}%'.format(accuracy_score(tf_test_predictions.eval(), test_labels)))"
   ]
  }
 ],
 "metadata": {
  "anaconda-cloud": {},
  "colab": {
   "default_view": {},
   "name": "3_regularization.ipynb",
   "provenance": [],
   "version": "0.3.2",
   "views": {}
  },
  "kernelspec": {
   "display_name": "Python [Root]",
   "language": "python",
   "name": "Python [Root]"
  },
  "language_info": {
   "codemirror_mode": {
    "name": "ipython",
    "version": 3
   },
   "file_extension": ".py",
   "mimetype": "text/x-python",
   "name": "python",
   "nbconvert_exporter": "python",
   "pygments_lexer": "ipython3",
   "version": "3.5.2"
  }
 },
 "nbformat": 4,
 "nbformat_minor": 0
}
